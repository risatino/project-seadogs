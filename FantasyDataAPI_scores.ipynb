{
 "cells": [
  {
   "cell_type": "markdown",
   "metadata": {},
   "source": [
    "### Fantasy Data API \n",
    "\n",
    "**Failed:**\n",
    "We signed up for 7-day trial, but data for a free account was very limited. We could only pull data from 2016 to present, and we needed data 2008-2018. Also, data is scrambled and inaccurate, but that is the case for most free NFL data.\n"
   ]
  },
  {
   "cell_type": "code",
   "execution_count": null,
   "metadata": {
    "collapsed": true
   },
   "outputs": [],
   "source": [
    "# dependencies\n",
    "import http.client, urllib.request, urllib.parse, urllib.error, base64\n",
    "\n",
    "import config as (primary_key, \n",
    "                 secondary_key)"
   ]
  },
  {
   "cell_type": "code",
   "execution_count": 4,
   "metadata": {},
   "outputs": [
    {
     "name": "stdout",
     "output_type": "stream",
     "text": [
      "b'<boolean xmlns=\"http://schemas.microsoft.com/2003/10/Serialization/\">false</boolean>'\n"
     ]
    }
   ],
   "source": [
    "# url = \"https://api.fantasydata.net/v3/nfl/scores/{format}/Scores/{season}?\"\n",
    "\n",
    "-------------------------------------------\n",
    "headers = {\n",
    "    # Request headers\n",
    "    'Ocp-Apim-Subscription-Key': '{subscription key}',\n",
    "}\n",
    "\n",
    "params = urllib.parse.urlencode({\n",
    "})\n",
    "\n",
    "try:\n",
    "    conn = http.client.HTTPSConnection('api.fantasydata.net')\n",
    "    conn.request(\"GET\", \"/v3/nfl/scores/{format}/AreAnyGamesInProgress?%s\" % params, \"{body}\", headers)\n",
    "    response = conn.getresponse()\n",
    "    data = response.read()\n",
    "    print(data)\n",
    "    conn.close()\n",
    "except Exception as e:\n",
    "    print(\"[Errno {0}] {1}\".format(e.errno, e.strerror))\n"
   ]
  },
  {
   "cell_type": "code",
   "execution_count": null,
   "metadata": {
    "collapsed": true
   },
   "outputs": [],
   "source": []
  }
 ],
 "metadata": {
  "kernelspec": {
   "display_name": "Python 3",
   "language": "python",
   "name": "python3"
  },
  "language_info": {
   "codemirror_mode": {
    "name": "ipython",
    "version": 3
   },
   "file_extension": ".py",
   "mimetype": "text/x-python",
   "name": "python",
   "nbconvert_exporter": "python",
   "pygments_lexer": "ipython3",
   "version": "3.6.3"
  }
 },
 "nbformat": 4,
 "nbformat_minor": 2
}
