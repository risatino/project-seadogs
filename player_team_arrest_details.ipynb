{
 "cells": [
  {
   "cell_type": "markdown",
   "metadata": {},
   "source": [
    "# Top Player: Arrest Details\n",
    "\n",
    "* Pulling crime details for each player with 2 or greater arrests"
   ]
  },
  {
   "cell_type": "code",
   "execution_count": 1,
   "metadata": {
    "collapsed": true
   },
   "outputs": [],
   "source": [
    "# import dependencies\n",
    "import requests\n",
    "import json\n",
    "import pandas as pd\n",
    "from pandas.io.json import json_normalize\n",
    "from pprint import pprint"
   ]
  },
  {
   "cell_type": "code",
   "execution_count": 2,
   "metadata": {
    "collapsed": true
   },
   "outputs": [],
   "source": [
    "# call API and loop through players. Append arrest_details with pulled data.\n",
    "api = \"http://nflarrest.com/api/v1/player/arrests/\"\n",
    "\n",
    "players = ['Kenny%20Britt', 'Aldon%20Smith', 'Fred%20Davis', 'Leroy%20Hill', 'Adam%20Jones', 'Johnny%20Jolly', \n",
    "           'Albert%20Haynesworth', 'Ray%20McDonald', 'John%20Gill', 'Willie%20Andrews', 'Jason%20Peters', 'Matt%20Prater', \n",
    "           'Andrew%20Jackson', 'Eric%20Wright', 'Jerome%20Simpson', 'Rey%20Maualuga', 'Matt%20Jones', 'Dante%20Fowler', \n",
    "          'Reuben%20Foster', 'Ronaldo%20McClain', 'William%20Moore', 'Aqib%20Talib', 'Brandon%20Walker', 'Gerald%20Sensabaugh', \n",
    "          'Nick%20Fairley', 'Von%20Miller', 'Josh%20Brown', 'Marcell%20Dareus', 'Trevone%20Boykin', 'Aaron%20Berry', \n",
    "          'Chris%20Cook', 'Cedric%20Benson', 'Marshawn%20Lynch', 'Letroy%20Guion', 'Brandon%20Underwood', 'Mikel%20Leshoure',\n",
    "          'Jeff%20Reed', 'Tre%20Mason', 'Dwayne%20Jarrett', 'Cody%20Grimm', 'Larry%20Johnson', 'Justin%20Blackmon', \n",
    "          'Erin%20Henderson', 'Joseph%20Randle', 'Brandon%20Marshall', 'Evan%20Rodriguez', 'Adrian%20Peterson', \n",
    "          'Vincent%20Jackson', 'Nigel%20Bradham', 'Kenny%20Wright', 'Everson%20Griffen']\n",
    "\n",
    "start = \"?start_date=2008-01-01\"\n",
    "\n",
    "player_arrest_details = []\n",
    "\n",
    "for player in players:\n",
    "    player_url = api + player + start\n",
    "    response = requests.get(player_url)\n",
    "    player_json = response.json()\n",
    "    player_arrest_details.append(player_json)\n"
   ]
  },
  {
   "cell_type": "code",
   "execution_count": 3,
   "metadata": {
    "collapsed": true
   },
   "outputs": [],
   "source": [
    "# flatten list of lists into one list\n",
    "flat_list = [item for sublist in player_arrest_details for item in sublist]"
   ]
  },
  {
   "cell_type": "code",
   "execution_count": 4,
   "metadata": {},
   "outputs": [],
   "source": [
    "#create dataframe\n",
    "player_arrest_details_df = pd.DataFrame(flat_list)"
   ]
  },
  {
   "cell_type": "code",
   "execution_count": 5,
   "metadata": {},
   "outputs": [
    {
     "data": {
      "text/html": [
       "<div>\n",
       "<style>\n",
       "    .dataframe thead tr:only-child th {\n",
       "        text-align: right;\n",
       "    }\n",
       "\n",
       "    .dataframe thead th {\n",
       "        text-align: left;\n",
       "    }\n",
       "\n",
       "    .dataframe tbody tr th {\n",
       "        vertical-align: top;\n",
       "    }\n",
       "</style>\n",
       "<table border=\"1\" class=\"dataframe\">\n",
       "  <thead>\n",
       "    <tr style=\"text-align: right;\">\n",
       "      <th></th>\n",
       "      <th>Name</th>\n",
       "      <th>Date</th>\n",
       "      <th>Category</th>\n",
       "      <th>Crime Category</th>\n",
       "      <th>Description</th>\n",
       "      <th>Outcome</th>\n",
       "    </tr>\n",
       "  </thead>\n",
       "  <tbody>\n",
       "    <tr>\n",
       "      <th>0</th>\n",
       "      <td>Kenny Britt</td>\n",
       "      <td>2012-07-20</td>\n",
       "      <td>DUI</td>\n",
       "      <td>DUI</td>\n",
       "      <td>Charged with drunken driving after trying to p...</td>\n",
       "      <td>Found not guilty of DUI, guilty of refusing Br...</td>\n",
       "    </tr>\n",
       "    <tr>\n",
       "      <th>1</th>\n",
       "      <td>Kenny Britt</td>\n",
       "      <td>2011-06-29</td>\n",
       "      <td>Outstanding warrant</td>\n",
       "      <td>License / Traffic</td>\n",
       "      <td>Turned himself in on two outstanding warrants ...</td>\n",
       "      <td>Resolution undetermined.</td>\n",
       "    </tr>\n",
       "    <tr>\n",
       "      <th>2</th>\n",
       "      <td>Kenny Britt</td>\n",
       "      <td>2011-06-08</td>\n",
       "      <td>Drugs</td>\n",
       "      <td>Drugs</td>\n",
       "      <td>Accused of resisting arrest in New Jersey afte...</td>\n",
       "      <td>Resolution undetermined.</td>\n",
       "    </tr>\n",
       "    <tr>\n",
       "      <th>3</th>\n",
       "      <td>Kenny Britt</td>\n",
       "      <td>2011-04-12</td>\n",
       "      <td>Obstruction</td>\n",
       "      <td>Resisting</td>\n",
       "      <td>Accused of eluding police with car chase in hi...</td>\n",
       "      <td>Pleaded guilty to careless driving, $478 fine.</td>\n",
       "    </tr>\n",
       "    <tr>\n",
       "      <th>4</th>\n",
       "      <td>Kenny Britt</td>\n",
       "      <td>2011-02-09</td>\n",
       "      <td>Theft</td>\n",
       "      <td>Theft / Burglary</td>\n",
       "      <td>Accused of theft by deception after allegedly ...</td>\n",
       "      <td>Resolution undetermined.</td>\n",
       "    </tr>\n",
       "  </tbody>\n",
       "</table>\n",
       "</div>"
      ],
      "text/plain": [
       "          Name        Date             Category     Crime Category  \\\n",
       "0  Kenny Britt  2012-07-20                  DUI                DUI   \n",
       "1  Kenny Britt  2011-06-29  Outstanding warrant  License / Traffic   \n",
       "2  Kenny Britt  2011-06-08                Drugs              Drugs   \n",
       "3  Kenny Britt  2011-04-12          Obstruction          Resisting   \n",
       "4  Kenny Britt  2011-02-09                Theft   Theft / Burglary   \n",
       "\n",
       "                                         Description  \\\n",
       "0  Charged with drunken driving after trying to p...   \n",
       "1  Turned himself in on two outstanding warrants ...   \n",
       "2  Accused of resisting arrest in New Jersey afte...   \n",
       "3  Accused of eluding police with car chase in hi...   \n",
       "4  Accused of theft by deception after allegedly ...   \n",
       "\n",
       "                                             Outcome  \n",
       "0  Found not guilty of DUI, guilty of refusing Br...  \n",
       "1                           Resolution undetermined.  \n",
       "2                           Resolution undetermined.  \n",
       "3     Pleaded guilty to careless driving, $478 fine.  \n",
       "4                           Resolution undetermined.  "
      ]
     },
     "execution_count": 5,
     "metadata": {},
     "output_type": "execute_result"
    }
   ],
   "source": [
    "# clean dataframe\n",
    "player_arrest_details_df = player_arrest_details_df.rename(columns={\"Name\": \"Name\", \"Date\": \"Date\", \"Category\": \"Category\", \n",
    "                                                             \"Crime_category\": \"Crime Category\", \"Description\": \"Description\",\n",
    "                                                             \"Outcome\": \"Outcome\"})\n",
    "player_arrest_details_df = player_arrest_details_df[[\"Name\", \"Date\", \"Category\",\"Crime Category\",\"Description\", \"Outcome\"]]\n",
    "player_arrest_details_df.reset_index(drop=True)\n",
    "player_arrest_details_df.head()"
   ]
  },
  {
   "cell_type": "code",
   "execution_count": 6,
   "metadata": {
    "collapsed": true
   },
   "outputs": [],
   "source": [
    "# save to CSV\n",
    "player_arrest_details_df.to_csv(f\"player_arrest_details.csv\", index = False)"
   ]
  },
  {
   "cell_type": "markdown",
   "metadata": {},
   "source": [
    "# Team: Arrest Details\n",
    "\n",
    "* Pulling crime details for each team"
   ]
  },
  {
   "cell_type": "code",
   "execution_count": 7,
   "metadata": {},
   "outputs": [],
   "source": [
    "# call API and loop through players. Append arrest_details with pulled data.\n",
    "api = \"http://nflarrest.com/api/v1/team/arrests/\"\n",
    "\n",
    "teams = ['DEN', 'IND', 'TB', 'SF', 'SEA', 'MIN', 'CLE', 'TEN', 'JAC', 'NYJ', 'CIN', 'CHI', 'GB', 'BAL', 'NYG', 'KC', 'PIT', \n",
    "         'MIA', 'ATL', 'BUF', 'LA', 'WAS', 'OAK', 'NO', 'PHI', 'DET', 'ARI', 'NE', 'DAL', 'LAC', 'CAR', 'HOU']\n",
    "\n",
    "start = \"?start_date=2008-01-01\"\n",
    "\n",
    "team_arrest_details = []\n",
    "\n",
    "for team in teams:\n",
    "    team_url = api + team + start\n",
    "    response = requests.get(team_url)\n",
    "    team_json = response.json()\n",
    "    team_arrest_details.append(team_json)\n"
   ]
  },
  {
   "cell_type": "code",
   "execution_count": 8,
   "metadata": {
    "collapsed": true
   },
   "outputs": [],
   "source": [
    "# flatten list of lists into one list\n",
    "flat_list1 = [item for sublist in team_arrest_details for item in sublist]"
   ]
  },
  {
   "cell_type": "code",
   "execution_count": 9,
   "metadata": {
    "collapsed": true
   },
   "outputs": [],
   "source": [
    "#create dataframe\n",
    "team_arrest_details_df = pd.DataFrame(flat_list1)"
   ]
  },
  {
   "cell_type": "code",
   "execution_count": 10,
   "metadata": {},
   "outputs": [
    {
     "data": {
      "text/html": [
       "<div>\n",
       "<style>\n",
       "    .dataframe thead tr:only-child th {\n",
       "        text-align: right;\n",
       "    }\n",
       "\n",
       "    .dataframe thead th {\n",
       "        text-align: left;\n",
       "    }\n",
       "\n",
       "    .dataframe tbody tr th {\n",
       "        vertical-align: top;\n",
       "    }\n",
       "</style>\n",
       "<table border=\"1\" class=\"dataframe\">\n",
       "  <thead>\n",
       "    <tr style=\"text-align: right;\">\n",
       "      <th></th>\n",
       "      <th>Team Name</th>\n",
       "      <th>Season</th>\n",
       "      <th>Season</th>\n",
       "      <th>Date</th>\n",
       "      <th>Category</th>\n",
       "      <th>Crime Category</th>\n",
       "      <th>Description</th>\n",
       "      <th>Outcome</th>\n",
       "    </tr>\n",
       "  </thead>\n",
       "  <tbody>\n",
       "    <tr>\n",
       "      <th>0</th>\n",
       "      <td>Denver Broncos</td>\n",
       "      <td>OffSeason</td>\n",
       "      <td>2018</td>\n",
       "      <td>2018-03-07</td>\n",
       "      <td>Sexual Assault</td>\n",
       "      <td>Sex</td>\n",
       "      <td>Accused of rape in an incident that happened i...</td>\n",
       "      <td>Resolution Undetermined.</td>\n",
       "    </tr>\n",
       "    <tr>\n",
       "      <th>1</th>\n",
       "      <td>Denver Broncos</td>\n",
       "      <td>OffSeason</td>\n",
       "      <td>2018</td>\n",
       "      <td>2018-01-14</td>\n",
       "      <td>Drugs</td>\n",
       "      <td>Drugs</td>\n",
       "      <td>Pulled over for speeding, cops found marijuana...</td>\n",
       "      <td>Resolution Undetermined.</td>\n",
       "    </tr>\n",
       "    <tr>\n",
       "      <th>2</th>\n",
       "      <td>Denver Broncos</td>\n",
       "      <td>OffSeason</td>\n",
       "      <td>2017</td>\n",
       "      <td>2017-03-31</td>\n",
       "      <td>Domestic violence</td>\n",
       "      <td>Domestic Violence</td>\n",
       "      <td>Accused of harassment and non-physical domesti...</td>\n",
       "      <td>Resolution Undetermined.</td>\n",
       "    </tr>\n",
       "    <tr>\n",
       "      <th>3</th>\n",
       "      <td>Denver Broncos</td>\n",
       "      <td>OffSeason</td>\n",
       "      <td>2016</td>\n",
       "      <td>2016-05-30</td>\n",
       "      <td>Traffic warrant</td>\n",
       "      <td>License / Traffic</td>\n",
       "      <td>Latimer called police and alleged his girlfrie...</td>\n",
       "      <td>Paid $311 to settle ticket.</td>\n",
       "    </tr>\n",
       "    <tr>\n",
       "      <th>4</th>\n",
       "      <td>Denver Broncos</td>\n",
       "      <td>OffSeason</td>\n",
       "      <td>2016</td>\n",
       "      <td>2016-02-13</td>\n",
       "      <td>DUI</td>\n",
       "      <td>DUI</td>\n",
       "      <td>Accused of drunken driving in Ada County, Idah...</td>\n",
       "      <td>Pleaded guilty to misdemeanor, one year probat...</td>\n",
       "    </tr>\n",
       "  </tbody>\n",
       "</table>\n",
       "</div>"
      ],
      "text/plain": [
       "        Team Name     Season Season        Date           Category  \\\n",
       "0  Denver Broncos  OffSeason   2018  2018-03-07     Sexual Assault   \n",
       "1  Denver Broncos  OffSeason   2018  2018-01-14              Drugs   \n",
       "2  Denver Broncos  OffSeason   2017  2017-03-31  Domestic violence   \n",
       "3  Denver Broncos  OffSeason   2016  2016-05-30    Traffic warrant   \n",
       "4  Denver Broncos  OffSeason   2016  2016-02-13                DUI   \n",
       "\n",
       "      Crime Category                                        Description  \\\n",
       "0                Sex  Accused of rape in an incident that happened i...   \n",
       "1              Drugs  Pulled over for speeding, cops found marijuana...   \n",
       "2  Domestic Violence  Accused of harassment and non-physical domesti...   \n",
       "3  License / Traffic  Latimer called police and alleged his girlfrie...   \n",
       "4                DUI  Accused of drunken driving in Ada County, Idah...   \n",
       "\n",
       "                                             Outcome  \n",
       "0                           Resolution Undetermined.  \n",
       "1                           Resolution Undetermined.  \n",
       "2                           Resolution Undetermined.  \n",
       "3                        Paid $311 to settle ticket.  \n",
       "4  Pleaded guilty to misdemeanor, one year probat...  "
      ]
     },
     "execution_count": 10,
     "metadata": {},
     "output_type": "execute_result"
    }
   ],
   "source": [
    "#clean dataframe\n",
    "team_arrest_details_df = team_arrest_details_df.rename(columns={\"Team_preffered_name\": \"Team Name\", \"Date\": \"Date\", \"Category\": \"Category\", \n",
    "                                                             \"Crime_category\": \"Crime Category\", \"Description\": \"Description\",\n",
    "                                                             \"Outcome\": \"Outcome\", \"ArrestSeasonState\": \"Season\"})\n",
    "team_arrest_details_df = team_arrest_details_df[[\"Team Name\", \"Season\", \"Date\", \"Category\", \"Crime Category\", \"Description\", \"Outcome\"]]\n",
    "\n",
    "team_arrest_details_df.head()"
   ]
  },
  {
   "cell_type": "code",
   "execution_count": 11,
   "metadata": {
    "collapsed": true
   },
   "outputs": [],
   "source": [
    "# save to CSV\n",
    "team_arrest_details_df.to_csv(f\"team_arrest_details.csv\", index = False)"
   ]
  },
  {
   "cell_type": "code",
   "execution_count": null,
   "metadata": {
    "collapsed": true
   },
   "outputs": [],
   "source": []
  }
 ],
 "metadata": {
  "kernelspec": {
   "display_name": "Python 3",
   "language": "python",
   "name": "python3"
  },
  "language_info": {
   "codemirror_mode": {
    "name": "ipython",
    "version": 3
   },
   "file_extension": ".py",
   "mimetype": "text/x-python",
   "name": "python",
   "nbconvert_exporter": "python",
   "pygments_lexer": "ipython3",
   "version": "3.6.3"
  }
 },
 "nbformat": 4,
 "nbformat_minor": 2
}
